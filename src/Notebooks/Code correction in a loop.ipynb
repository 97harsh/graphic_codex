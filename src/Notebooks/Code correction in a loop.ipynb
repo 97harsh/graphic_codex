{
 "cells": [
  {
   "cell_type": "code",
   "execution_count": 1,
   "id": "bb16e236",
   "metadata": {},
   "outputs": [],
   "source": [
    "import json"
   ]
  },
  {
   "cell_type": "code",
   "execution_count": 2,
   "id": "f839a790",
   "metadata": {},
   "outputs": [],
   "source": [
    "with open(\"../../config.json\") as f:\n",
    "    read = json.load(f)"
   ]
  },
  {
   "cell_type": "code",
   "execution_count": 3,
   "id": "61185ae9",
   "metadata": {},
   "outputs": [],
   "source": [
    "import openai\n",
    "openai.api_key = read['API Key']"
   ]
  },
  {
   "cell_type": "code",
   "execution_count": 4,
   "id": "c2e72a0e",
   "metadata": {},
   "outputs": [],
   "source": [
    "from openai import InvalidRequestError\n",
    "\n",
    "from subprocess import check_output, STDOUT, CalledProcessError\n",
    "import os\n",
    "\n",
    "import time"
   ]
  },
  {
   "cell_type": "code",
   "execution_count": 5,
   "id": "b9708b5a",
   "metadata": {},
   "outputs": [],
   "source": [
    "def get_response_completion(prompt, model=\"code-davinci-002\",temperature=0, max_tokens=100,retry=True,**wargs):\n",
    "    \"\"\" Sample usage\n",
    "    get_response(\"# program to return the nth fibbonacci number \")\n",
    "    \"\"\"\n",
    "    try:\n",
    "        response = openai.Completion.create(model=model,\n",
    "                          prompt=prompt, temperature=temperature, max_tokens=max_tokens, **wargs)\n",
    "    except InvalidRequestError as ie:\n",
    "        time.sleep(5)\n",
    "        print(ie)\n",
    "        if retry:\n",
    "            return get_response_completion(prompt, model=model, temperature=temperature, max_tokens=max_tokens,\n",
    "                                           retry=False, **wargs)\n",
    "        return None\n",
    "    except Exception as e:\n",
    "        print(e)\n",
    "        return None\n",
    "    return response\n",
    "\n",
    "def get_response_edit(input, instruction, model=\"code-davinci-edit-001\", temperature=0, retry=True, **wargs):\n",
    "    \"\"\" Sample usage\n",
    "    get_response_edit(input=\"def Fibonacci(n):\\\n",
    "\tif n<0: \\\n",
    "\t\tprint(\"Incorrect input\") \\\n",
    "\telif n==1: \\\n",
    "\t\treturn 0\\\n",
    "\telif n==2: \\\n",
    "\t\treturn 1\\\n",
    "\telse: \\\n",
    "\t\treturn Fibonacci(n-1)+Fibonacci(n-2\\\n",
    "\\\n",
    "print(Fibonacci(9))\",\n",
    "                 instruction=\"fix the error message \"+result['error'].decode(\"utf-8\")\n",
    "                 )\n",
    "    \"\"\"\n",
    "    try:\n",
    "        response = openai.Edit.create(\n",
    "                  model=model,\n",
    "                  input=input,\n",
    "                  instruction=instruction,\n",
    "                        **wargs\n",
    "                )\n",
    "    except InvalidRequestError as ie:\n",
    "        time.sleep(10)\n",
    "        print(ie)\n",
    "        if retry:\n",
    "            get_response_edit(input, instruction, model, retry=False, temperature=0, **wargs)\n",
    "        return None\n",
    "\n",
    "    except Exception as e:\n",
    "        print(e)\n",
    "        return None\n",
    "\n",
    "    return response"
   ]
  },
  {
   "cell_type": "code",
   "execution_count": 6,
   "id": "4492bf18",
   "metadata": {},
   "outputs": [],
   "source": [
    "def test_code(file_path):\n",
    "    result={}\n",
    "    working=True\n",
    "    if not os.path.exists(file_path):\n",
    "        raise FileNotFoundError(f\"this path doesn't exist: {file_path}\")\n",
    "    try:\n",
    "        output = check_output(['python', file_path], stderr=STDOUT)\n",
    "        result['out']=output.decode(\"utf-8\")\n",
    "    except CalledProcessError as exc:\n",
    "        print(exc.output.decode(\"utf-8\"))\n",
    "        result['error'] = exc.output.decode(\"utf-8\")\n",
    "        working=False\n",
    "    else:\n",
    "        print(result['out'])\n",
    "    return working,result"
   ]
  },
  {
   "cell_type": "code",
   "execution_count": 7,
   "id": "5c3adaa3",
   "metadata": {},
   "outputs": [],
   "source": [
    "def write_to_file(text, file_path):\n",
    "    with open(file_path,\"w\") as f:\n",
    "        f.write(text)\n",
    "    return True"
   ]
  },
  {
   "cell_type": "code",
   "execution_count": 8,
   "id": "6ac8bd9b",
   "metadata": {},
   "outputs": [],
   "source": [
    "def get_code(prompt, file_path=\"../../out/sample1.py\", max_edit_count=5):\n",
    "    temp_file = \"../../out/temp\"\n",
    "    counter=1\n",
    "    response = get_response_completion(prompt)\n",
    "    if response is None:\n",
    "        raise Exception(\"Failed to fetch result from API try again\")\n",
    "    print(response['choices'][0]['text'])\n",
    "    write_to_file(response['choices'][0]['text'], file_path)\n",
    "    write_to_file(response['choices'][0]['text'], temp_file+f\"_{counter}.py\")\n",
    "\n",
    "    working, result = test_code(file_path)\n",
    "    while not working and counter<max_edit_count:\n",
    "        print(f\"Correction attempt:{counter}\")\n",
    "        counter+=1\n",
    "        response = get_response_edit(input=response['choices'][0]['text'],\n",
    "                                         instruction=\"\\nfix the error message \"+result['error']\n",
    "                                         )\n",
    "        if response is None:\n",
    "            raise Exception(\"Failed to fetch result from API try again\")\n",
    "        write_to_file(response['choices'][0]['text'], file_path)\n",
    "        write_to_file(response['choices'][0]['text'], temp_file+f\"_{counter}.py\")\n",
    "        working, result = test_code(file_path)\n",
    "    "
   ]
  },
  {
   "cell_type": "code",
   "execution_count": 10,
   "id": "85d03d0c",
   "metadata": {
    "scrolled": true
   },
   "outputs": [
    {
     "name": "stdout",
     "output_type": "stream",
     "text": [
      "symbol\n",
      "\n",
      "for i in range(7):\n",
      "    for j in range(i):\n",
      "        print('*',end=\"\")\n",
      "    print('')\n",
      "\n",
      "for i in range(7,0,-1):\n",
      "    for j in range(i):\n",
      "        print('*',end=\"\")\n",
      "    print('')\n",
      "\n",
      "#program to reverse a word after accepting the input from the user\n",
      "\n",
      "word = input(\"Enter a word: \")\n",
      "\n",
      "\n",
      "Traceback (most recent call last):\n",
      "  File \"/Users/harsh/Downloads/Coursework/CS 523/graphic_codex/src/Notebooks/../../out/sample1.py\", line 1, in <module>\n",
      "    symbol\n",
      "NameError: name 'symbol' is not defined\n",
      "\n",
      "Correction attempt:1\n",
      "pygame 2.1.2 (SDL 2.0.18, Python 3.9.13)\n",
      "Hello from the pygame community. https://www.pygame.org/contribute.html\n",
      "\n"
     ]
    }
   ],
   "source": [
    "get_code(\"#program to generate 7 rows of triangle using * \", max_edit_count=10)"
   ]
  },
  {
   "cell_type": "code",
   "execution_count": null,
   "id": "f5728da4",
   "metadata": {},
   "outputs": [],
   "source": []
  },
  {
   "cell_type": "code",
   "execution_count": null,
   "id": "637df490",
   "metadata": {},
   "outputs": [],
   "source": []
  }
 ],
 "metadata": {
  "kernelspec": {
   "display_name": "Python 3 (ipykernel)",
   "language": "python",
   "name": "python3"
  },
  "language_info": {
   "codemirror_mode": {
    "name": "ipython",
    "version": 3
   },
   "file_extension": ".py",
   "mimetype": "text/x-python",
   "name": "python",
   "nbconvert_exporter": "python",
   "pygments_lexer": "ipython3",
   "version": "3.9.13"
  }
 },
 "nbformat": 4,
 "nbformat_minor": 5
}
